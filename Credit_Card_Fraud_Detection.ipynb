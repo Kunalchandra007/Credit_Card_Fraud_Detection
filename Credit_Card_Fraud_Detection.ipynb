{
 "cells": [
  {
   "cell_type": "code",
   "execution_count": 59,
   "metadata": {},
   "outputs": [],
   "source": [
    "import numpy as np\n",
    "import sklearn as sk\n",
    "import pandas as pd\n",
    "import matplotlib.pyplot as plt\n",
    "from sklearn.metrics import confusion_matrix\n",
    "from sklearn.preprocessing import scale\n",
    "import random\n",
    "import seaborn as sns"
   ]
  },
  {
   "cell_type": "code",
   "execution_count": 60,
   "metadata": {},
   "outputs": [
    {
     "data": {
      "text/html": [
       "<div>\n",
       "<style scoped>\n",
       "    .dataframe tbody tr th:only-of-type {\n",
       "        vertical-align: middle;\n",
       "    }\n",
       "\n",
       "    .dataframe tbody tr th {\n",
       "        vertical-align: top;\n",
       "    }\n",
       "\n",
       "    .dataframe thead th {\n",
       "        text-align: right;\n",
       "    }\n",
       "</style>\n",
       "<table border=\"1\" class=\"dataframe\">\n",
       "  <thead>\n",
       "    <tr style=\"text-align: right;\">\n",
       "      <th></th>\n",
       "      <th>Time</th>\n",
       "      <th>V1</th>\n",
       "      <th>V2</th>\n",
       "      <th>V3</th>\n",
       "      <th>V4</th>\n",
       "      <th>V5</th>\n",
       "      <th>V6</th>\n",
       "      <th>V7</th>\n",
       "      <th>V8</th>\n",
       "      <th>V9</th>\n",
       "      <th>...</th>\n",
       "      <th>V21</th>\n",
       "      <th>V22</th>\n",
       "      <th>V23</th>\n",
       "      <th>V24</th>\n",
       "      <th>V25</th>\n",
       "      <th>V26</th>\n",
       "      <th>V27</th>\n",
       "      <th>V28</th>\n",
       "      <th>Amount</th>\n",
       "      <th>Class</th>\n",
       "    </tr>\n",
       "  </thead>\n",
       "  <tbody>\n",
       "    <tr>\n",
       "      <th>0</th>\n",
       "      <td>79229.0</td>\n",
       "      <td>1.246458</td>\n",
       "      <td>-0.383811</td>\n",
       "      <td>0.900681</td>\n",
       "      <td>-0.720237</td>\n",
       "      <td>-1.253807</td>\n",
       "      <td>-0.836986</td>\n",
       "      <td>-0.605590</td>\n",
       "      <td>-0.005623</td>\n",
       "      <td>1.895090</td>\n",
       "      <td>...</td>\n",
       "      <td>-0.017912</td>\n",
       "      <td>0.174505</td>\n",
       "      <td>-0.029770</td>\n",
       "      <td>0.396192</td>\n",
       "      <td>0.483659</td>\n",
       "      <td>-0.684971</td>\n",
       "      <td>0.090466</td>\n",
       "      <td>0.034254</td>\n",
       "      <td>1.00</td>\n",
       "      <td>0</td>\n",
       "    </tr>\n",
       "    <tr>\n",
       "      <th>1</th>\n",
       "      <td>54273.0</td>\n",
       "      <td>0.877047</td>\n",
       "      <td>-0.669096</td>\n",
       "      <td>0.050735</td>\n",
       "      <td>0.996914</td>\n",
       "      <td>0.167314</td>\n",
       "      <td>1.595264</td>\n",
       "      <td>-0.315904</td>\n",
       "      <td>0.363575</td>\n",
       "      <td>0.676897</td>\n",
       "      <td>...</td>\n",
       "      <td>0.027119</td>\n",
       "      <td>0.017011</td>\n",
       "      <td>-0.461881</td>\n",
       "      <td>-1.657254</td>\n",
       "      <td>0.749002</td>\n",
       "      <td>-0.176323</td>\n",
       "      <td>0.038358</td>\n",
       "      <td>0.026286</td>\n",
       "      <td>177.82</td>\n",
       "      <td>0</td>\n",
       "    </tr>\n",
       "    <tr>\n",
       "      <th>2</th>\n",
       "      <td>145864.0</td>\n",
       "      <td>-1.159751</td>\n",
       "      <td>-0.582500</td>\n",
       "      <td>1.579323</td>\n",
       "      <td>-1.063597</td>\n",
       "      <td>-0.919729</td>\n",
       "      <td>0.204660</td>\n",
       "      <td>1.041929</td>\n",
       "      <td>0.255827</td>\n",
       "      <td>0.333549</td>\n",
       "      <td>...</td>\n",
       "      <td>0.341796</td>\n",
       "      <td>0.356974</td>\n",
       "      <td>0.641757</td>\n",
       "      <td>-0.054203</td>\n",
       "      <td>-0.522506</td>\n",
       "      <td>-0.090323</td>\n",
       "      <td>0.012461</td>\n",
       "      <td>0.178995</td>\n",
       "      <td>297.56</td>\n",
       "      <td>0</td>\n",
       "    </tr>\n",
       "    <tr>\n",
       "      <th>3</th>\n",
       "      <td>85785.0</td>\n",
       "      <td>1.069685</td>\n",
       "      <td>-0.085176</td>\n",
       "      <td>0.311721</td>\n",
       "      <td>1.450785</td>\n",
       "      <td>-0.365173</td>\n",
       "      <td>-0.208012</td>\n",
       "      <td>0.003057</td>\n",
       "      <td>0.080699</td>\n",
       "      <td>0.574089</td>\n",
       "      <td>...</td>\n",
       "      <td>-0.094368</td>\n",
       "      <td>-0.238258</td>\n",
       "      <td>-0.081798</td>\n",
       "      <td>0.045113</td>\n",
       "      <td>0.580853</td>\n",
       "      <td>-0.311588</td>\n",
       "      <td>0.018241</td>\n",
       "      <td>0.020387</td>\n",
       "      <td>56.89</td>\n",
       "      <td>0</td>\n",
       "    </tr>\n",
       "    <tr>\n",
       "      <th>4</th>\n",
       "      <td>105662.0</td>\n",
       "      <td>0.276979</td>\n",
       "      <td>0.281562</td>\n",
       "      <td>1.286344</td>\n",
       "      <td>0.012400</td>\n",
       "      <td>-0.366833</td>\n",
       "      <td>0.406912</td>\n",
       "      <td>-0.506439</td>\n",
       "      <td>-0.849436</td>\n",
       "      <td>2.068610</td>\n",
       "      <td>...</td>\n",
       "      <td>0.675625</td>\n",
       "      <td>-0.192347</td>\n",
       "      <td>-0.164580</td>\n",
       "      <td>-0.691090</td>\n",
       "      <td>0.532722</td>\n",
       "      <td>-0.270628</td>\n",
       "      <td>0.218340</td>\n",
       "      <td>0.263239</td>\n",
       "      <td>63.50</td>\n",
       "      <td>0</td>\n",
       "    </tr>\n",
       "  </tbody>\n",
       "</table>\n",
       "<p>5 rows × 31 columns</p>\n",
       "</div>"
      ],
      "text/plain": [
       "       Time        V1        V2        V3        V4        V5        V6  \\\n",
       "0   79229.0  1.246458 -0.383811  0.900681 -0.720237 -1.253807 -0.836986   \n",
       "1   54273.0  0.877047 -0.669096  0.050735  0.996914  0.167314  1.595264   \n",
       "2  145864.0 -1.159751 -0.582500  1.579323 -1.063597 -0.919729  0.204660   \n",
       "3   85785.0  1.069685 -0.085176  0.311721  1.450785 -0.365173 -0.208012   \n",
       "4  105662.0  0.276979  0.281562  1.286344  0.012400 -0.366833  0.406912   \n",
       "\n",
       "         V7        V8        V9  ...       V21       V22       V23       V24  \\\n",
       "0 -0.605590 -0.005623  1.895090  ... -0.017912  0.174505 -0.029770  0.396192   \n",
       "1 -0.315904  0.363575  0.676897  ...  0.027119  0.017011 -0.461881 -1.657254   \n",
       "2  1.041929  0.255827  0.333549  ...  0.341796  0.356974  0.641757 -0.054203   \n",
       "3  0.003057  0.080699  0.574089  ... -0.094368 -0.238258 -0.081798  0.045113   \n",
       "4 -0.506439 -0.849436  2.068610  ...  0.675625 -0.192347 -0.164580 -0.691090   \n",
       "\n",
       "        V25       V26       V27       V28  Amount  Class  \n",
       "0  0.483659 -0.684971  0.090466  0.034254    1.00      0  \n",
       "1  0.749002 -0.176323  0.038358  0.026286  177.82      0  \n",
       "2 -0.522506 -0.090323  0.012461  0.178995  297.56      0  \n",
       "3  0.580853 -0.311588  0.018241  0.020387   56.89      0  \n",
       "4  0.532722 -0.270628  0.218340  0.263239   63.50      0  \n",
       "\n",
       "[5 rows x 31 columns]"
      ]
     },
     "execution_count": 60,
     "metadata": {},
     "output_type": "execute_result"
    }
   ],
   "source": [
    "df = pd.read_csv('creditcard.csv', low_memory=False)\n",
    "# for shuffling Dataframe rows\n",
    "df = df.sample(frac=1).reset_index(drop=True)\n",
    "df.head()"
   ]
  },
  {
   "cell_type": "code",
   "execution_count": 61,
   "metadata": {},
   "outputs": [
    {
     "name": "stdout",
     "output_type": "stream",
     "text": [
      "We have 492 fraud data points and 284315 nonfraudulent data points.\n"
     ]
    }
   ],
   "source": [
    "frauds = df.loc[df['Class'] == 1]\n",
    "non_frauds = df.loc[df['Class'] == 0]\n",
    "print(\"We have\", len(frauds), \"fraud data points and\", len(non_frauds), \"nonfraudulent data points.\")"
   ]
  },
  {
   "cell_type": "code",
   "execution_count": 62,
   "metadata": {},
   "outputs": [
    {
     "data": {
      "image/png": "[encoded data removed]",
      "text/plain": [
       "<Figure size 640x480 with 1 Axes>"
      ]
     },
     "metadata": {},
     "output_type": "display_data"
    }
   ],
   "source": [
    "# Scatter plot of both classes\n",
    "ax = frauds.plot.scatter(x='Amount', y='Class', color='Orange', label='Fraud')\n",
    "non_frauds.plot.scatter(x='Amount', y='Class', color='Blue', label='Normal', ax=ax)\n",
    "plt.show()"
   ]
  },
  {
   "cell_type": "code",
   "execution_count": 63,
   "metadata": {},
   "outputs": [
    {
     "data": {
      "text/plain": [
       "(284807, 31)"
      ]
     },
     "execution_count": 63,
     "metadata": {},
     "output_type": "execute_result"
    }
   ],
   "source": [
    "df.shape"
   ]
  },
  {
   "cell_type": "code",
   "execution_count": 64,
   "metadata": {},
   "outputs": [
    {
     "data": {
      "text/plain": [
       "2"
      ]
     },
     "execution_count": 64,
     "metadata": {},
     "output_type": "execute_result"
    }
   ],
   "source": [
    "df.ndim"
   ]
  },
  {
   "cell_type": "code",
   "execution_count": 65,
   "metadata": {},
   "outputs": [
    {
     "data": {
      "image/png": "[encoded data removed]",
      "text/plain": [
       "<Figure size 640x480 with 1 Axes>"
      ]
     },
     "metadata": {},
     "output_type": "display_data"
    }
   ],
   "source": [
    "bx = frauds.plot.scatter(x='Amount', y='Class', color='Orange', label='Fraud')\n",
    "plt.show()"
   ]
  },
  {
   "cell_type": "code",
   "execution_count": 66,
   "metadata": {},
   "outputs": [],
   "source": [
    "def plot_confusion_matrix(y_test, pred):\n",
    "    \n",
    "    y_test_legit = y_test.value_counts()[0]\n",
    "    y_test_fraud = y_test.value_counts()[1]\n",
    "    \n",
    "    cfn_matrix = confusion_matrix(y_test, pred)\n",
    "    cfn_norm_matrix = np.array([[1.0 / y_test_legit,1.0/y_test_legit],[1.0/y_test_fraud,1.0/y_test_fraud]])\n",
    "    norm_cfn_matrix = cfn_matrix * cfn_norm_matrix\n",
    "\n",
    "    fig = plt.figure(figsize=(12,5))\n",
    "    ax = fig.add_subplot(1,2,1)\n",
    "    sns.heatmap(cfn_matrix,cmap='coolwarm_r',linewidths=0.5,annot=True,ax=ax)\n",
    "    plt.title('Confusion Matrix')\n",
    "    plt.ylabel('Real Classes')\n",
    "    plt.xlabel('Predicted Classes')\n",
    "\n",
    "    ax = fig.add_subplot(1,2,2)\n",
    "    sns.heatmap(norm_cfn_matrix,cmap='coolwarm_r',linewidths=0.5,annot=True,ax=ax)\n",
    "\n",
    "    plt.title('Normalized Confusion Matrix')\n",
    "    plt.ylabel('Real Classes')\n",
    "    plt.xlabel('Predicted Classes')\n",
    "    plt.show()\n",
    "    \n",
    "    print('---Classification Report---')\n",
    "    print(classification_report(y_test,pred))"
   ]
  },
  {
   "cell_type": "code",
   "execution_count": 67,
   "metadata": {},
   "outputs": [
    {
     "name": "stdout",
     "output_type": "stream",
     "text": [
      "X and y sizes, respectively: 284807 284807\n",
      "Train and test sizes, respectively: 185124 185124 | 99683 99683\n",
      "Total number of frauds: 492 0.001727485630620034\n",
      "Number of frauds on y_test: 176 0.0017655969423071136\n",
      "Number of frauds on y_train: 316 0.001706963980899289\n"
     ]
    }
   ],
   "source": [
    "from sklearn.linear_model import LogisticRegression\n",
    "from sklearn import metrics\n",
    "from sklearn.preprocessing import PolynomialFeatures\n",
    "from sklearn.model_selection import train_test_split\n",
    "from sklearn.metrics import confusion_matrix, classification_report\n",
    "\n",
    "\n",
    "X = df.iloc[:,:-1]\n",
    "y = df['Class']\n",
    "\n",
    "print(\"X and y sizes, respectively:\", len(X), len(y))\n",
    "\n",
    "X_train, X_test, y_train, y_test = train_test_split(X, y, test_size=0.35)\n",
    "print(\"Train and test sizes, respectively:\", len(X_train), len(y_train), \"|\", len(X_test), len(y_test))\n",
    "print(\"Total number of frauds:\", len(y.loc[df['Class'] == 1]), len(y.loc[df['Class'] == 1])/len(y))\n",
    "print(\"Number of frauds on y_test:\", len(y_test.loc[df['Class'] == 1]), len(y_test.loc[df['Class'] == 1]) / len(y_test))\n",
    "print(\"Number of frauds on y_train:\", len(y_train.loc[df['Class'] == 1]), len(y_train.loc[df['Class'] == 1])/len(y_train))\n",
    "\n",
    "\n"
   ]
  },
  {
   "cell_type": "markdown",
   "metadata": {},
   "source": [
    "<h4>Logistic Regression Model:</H4>"
   ]
  },
  {
   "cell_type": "code",
   "execution_count": 68,
   "metadata": {},
   "outputs": [
    {
     "name": "stdout",
     "output_type": "stream",
     "text": [
      "Confusion Matrix:\n",
      " [[99488    19]\n",
      " [   71   105]]\n",
      "Classification Report:\n",
      "               precision    recall  f1-score   support\n",
      "\n",
      "           0       1.00      1.00      1.00     99507\n",
      "           1       0.85      0.60      0.70       176\n",
      "\n",
      "    accuracy                           1.00     99683\n",
      "   macro avg       0.92      0.80      0.85     99683\n",
      "weighted avg       1.00      1.00      1.00     99683\n",
      "\n"
     ]
    },
    {
     "data": {
      "text/plain": [
       "['scaler_logreg.pkl']"
      ]
     },
     "execution_count": 68,
     "metadata": {},
     "output_type": "execute_result"
    }
   ],
   "source": [
    "from sklearn.linear_model import LogisticRegression\n",
    "from sklearn.preprocessing import StandardScaler\n",
    "from sklearn.metrics import confusion_matrix, classification_report\n",
    "import joblib\n",
    "\n",
    "# Scaling\n",
    "scaler_logreg = StandardScaler()\n",
    "X_train_scaled = scaler_logreg.fit_transform(X_train)\n",
    "X_test_scaled = scaler_logreg.transform(X_test)\n",
    "\n",
    "# Model\n",
    "LogReg = LogisticRegression(max_iter=1000)\n",
    "LogReg.fit(X_train_scaled, y_train)\n",
    "y_pred = LogReg.predict(X_test_scaled)\n",
    "\n",
    "# Evaluation\n",
    "cm = confusion_matrix(y_test, y_pred)\n",
    "print(\"Confusion Matrix:\\n\", cm)\n",
    "print(\"Classification Report:\\n\", classification_report(y_test, y_pred))\n",
    "\n",
    "# Save\n",
    "joblib.dump(LogReg, \"logreg_model.pkl\")\n",
    "joblib.dump(scaler_logreg, \"scaler_logreg.pkl\")\n"
   ]
  },
  {
   "cell_type": "code",
   "execution_count": 69,
   "metadata": {},
   "outputs": [
    {
     "name": "stdout",
     "output_type": "stream",
     "text": [
      "AUC-ROC Score: 0.7981999838750495\n"
     ]
    },
    {
     "name": "stderr",
     "output_type": "stream",
     "text": [
      "C:\\Users\\kunal\\AppData\\Roaming\\Python\\Python312\\site-packages\\sklearn\\utils\\validation.py:2732: UserWarning: X has feature names, but LogisticRegression was fitted without feature names\n",
      "  warnings.warn(\n",
      "C:\\Users\\kunal\\AppData\\Roaming\\Python\\Python312\\site-packages\\sklearn\\utils\\validation.py:2732: UserWarning: X has feature names, but LogisticRegression was fitted without feature names\n",
      "  warnings.warn(\n"
     ]
    },
    {
     "data": {
      "image/png": "[encoded data removed]",
      "text/plain": [
       "<Figure size 640x480 with 1 Axes>"
      ]
     },
     "metadata": {},
     "output_type": "display_data"
    }
   ],
   "source": [
    "from sklearn.metrics import roc_curve,roc_auc_score\n",
    "print(\"AUC-ROC Score:\",roc_auc_score(y_test, y_pred))\n",
    "\n",
    "\n",
    "predictions = LogReg.predict_proba(X_test)\n",
    "y_pred = LogReg.predict(X_test) \n",
    "fpr, tpr, _ = roc_curve(y_test, predictions[:,1])\n",
    "\n",
    "plt.clf()\n",
    "plt.plot(fpr, tpr)\n",
    "plt.xlabel('FPR')\n",
    "plt.ylabel('TPR')\n",
    "plt.title('ROC curve')\n",
    "plt.show()"
   ]
  },
  {
   "cell_type": "markdown",
   "metadata": {},
   "source": [
    "<h4>Logistic Regression with SMOTE over-sampling</h4>"
   ]
  },
  {
   "cell_type": "code",
   "execution_count": 70,
   "metadata": {},
   "outputs": [],
   "source": [
    "from imblearn.over_sampling import SMOTE "
   ]
  },
  {
   "cell_type": "code",
   "execution_count": 71,
   "metadata": {},
   "outputs": [
    {
     "name": "stdout",
     "output_type": "stream",
     "text": [
      "(185124, 30)\n",
      "(185124,)\n"
     ]
    }
   ],
   "source": [
    "print(X_train.shape)\n",
    "print(y_train.shape)"
   ]
  },
  {
   "cell_type": "code",
   "execution_count": 72,
   "metadata": {},
   "outputs": [],
   "source": [
    "from imblearn.over_sampling import SMOTE\n",
    "\n",
    "sm = SMOTE(random_state=42)\n",
    "X_res, y_res = sm.fit_resample(X_train, y_train)\n"
   ]
  },
  {
   "cell_type": "code",
   "execution_count": 73,
   "metadata": {},
   "outputs": [
    {
     "name": "stdout",
     "output_type": "stream",
     "text": [
      "(369616, 30)\n",
      "(369616,)\n",
      "[[     0 184808]\n",
      " [     1 184808]]\n"
     ]
    }
   ],
   "source": [
    "print(X_res.shape)\n",
    "print(y_res.shape)\n",
    "\n",
    "\n",
    "unique, counts = np.unique(y_res, return_counts=True)\n",
    "print(np.asarray((unique, counts)).T)\n"
   ]
  },
  {
   "cell_type": "code",
   "execution_count": 74,
   "metadata": {},
   "outputs": [
    {
     "name": "stderr",
     "output_type": "stream",
     "text": [
      "C:\\Users\\kunal\\AppData\\Roaming\\Python\\Python312\\site-packages\\sklearn\\linear_model\\_logistic.py:465: ConvergenceWarning: lbfgs failed to converge (status=1):\n",
      "STOP: TOTAL NO. OF ITERATIONS REACHED LIMIT.\n",
      "\n",
      "Increase the number of iterations (max_iter) or scale the data as shown in:\n",
      "    https://scikit-learn.org/stable/modules/preprocessing.html\n",
      "Please also refer to the documentation for alternative solver options:\n",
      "    https://scikit-learn.org/stable/modules/linear_model.html#logistic-regression\n",
      "  n_iter_i = _check_optimize_result(\n"
     ]
    },
    {
     "data": {
      "image/png": "[encoded data removed]",
      "text/plain": [
       "<Figure size 1200x500 with 4 Axes>"
      ]
     },
     "metadata": {},
     "output_type": "display_data"
    },
    {
     "name": "stdout",
     "output_type": "stream",
     "text": [
      "---Classification Report---\n",
      "              precision    recall  f1-score   support\n",
      "\n",
      "           0       1.00      0.98      0.99     99507\n",
      "           1       0.07      0.91      0.14       176\n",
      "\n",
      "    accuracy                           0.98     99683\n",
      "   macro avg       0.54      0.94      0.56     99683\n",
      "weighted avg       1.00      0.98      0.99     99683\n",
      "\n",
      "Score:  0.9800367163909594\n"
     ]
    }
   ],
   "source": [
    "LogReg = LogisticRegression()\n",
    "LogReg.fit(X_res, y_res)\n",
    "y_pred = LogReg.predict(X_test)\n",
    "\n",
    "plot_confusion_matrix(y_test, y_pred)\n",
    "\n",
    "print(\"Score: \", LogReg.score(X_test, y_test))"
   ]
  },
  {
   "cell_type": "code",
   "execution_count": 75,
   "metadata": {},
   "outputs": [
    {
     "name": "stdout",
     "output_type": "stream",
     "text": [
      "AUC-ROC Score: 0.9446265543675776\n"
     ]
    },
    {
     "data": {
      "image/png": "[encoded data removed]",
      "text/plain": [
       "<Figure size 640x480 with 1 Axes>"
      ]
     },
     "metadata": {},
     "output_type": "display_data"
    }
   ],
   "source": [
    "from sklearn.metrics import roc_curve,roc_auc_score\n",
    "print(\"AUC-ROC Score:\",roc_auc_score(y_test, y_pred))\n",
    "\n",
    "\n",
    "predictions = LogReg.predict_proba(X_test)\n",
    "y_pred = LogReg.predict(X_test) \n",
    "fpr, tpr, _ = roc_curve(y_test, predictions[:,1])\n",
    "\n",
    "plt.clf()\n",
    "plt.plot(fpr, tpr)\n",
    "plt.xlabel('FPR')\n",
    "plt.ylabel('TPR')\n",
    "plt.title('ROC curve')\n",
    "plt.show()"
   ]
  },
  {
   "cell_type": "markdown",
   "metadata": {},
   "source": [
    "<h4>Decision Tree: </h4>"
   ]
  },
  {
   "cell_type": "code",
   "execution_count": 76,
   "metadata": {},
   "outputs": [
    {
     "name": "stdout",
     "output_type": "stream",
     "text": [
      "Confusion Matrix:\n",
      " [[99465    42]\n",
      " [   45   131]]\n",
      "Classification Report:\n",
      "               precision    recall  f1-score   support\n",
      "\n",
      "           0       1.00      1.00      1.00     99507\n",
      "           1       0.76      0.74      0.75       176\n",
      "\n",
      "    accuracy                           1.00     99683\n",
      "   macro avg       0.88      0.87      0.88     99683\n",
      "weighted avg       1.00      1.00      1.00     99683\n",
      "\n",
      "AUC-ROC Score: 0.8719480504797743\n"
     ]
    },
    {
     "data": {
      "image/png": "[encoded data removed]",
      "text/plain": [
       "<Figure size 640x480 with 1 Axes>"
      ]
     },
     "metadata": {},
     "output_type": "display_data"
    },
    {
     "data": {
      "text/plain": [
       "['decision_tree_model.pkl']"
      ]
     },
     "execution_count": 76,
     "metadata": {},
     "output_type": "execute_result"
    }
   ],
   "source": [
    "from sklearn import tree\n",
    "from sklearn.metrics import roc_curve, roc_auc_score, classification_report, confusion_matrix\n",
    "from matplotlib import pyplot as plt\n",
    "import joblib\n",
    "\n",
    "# Optionally scale if needed — not always required for DecisionTree\n",
    "# from sklearn.preprocessing import StandardScaler\n",
    "# scaler_dt = StandardScaler()\n",
    "# X_train_scaled = scaler_dt.fit_transform(X_train)\n",
    "# X_test_scaled = scaler_dt.transform(X_test)\n",
    "\n",
    "# Decision Tree model\n",
    "dt_model = tree.DecisionTreeClassifier()\n",
    "dt_model.fit(X_train, y_train)\n",
    "\n",
    "# Predictions\n",
    "predictions = dt_model.predict_proba(X_test)\n",
    "y_pred = dt_model.predict(X_test)\n",
    "\n",
    "# Plot confusion matrix\n",
    "cm = confusion_matrix(y_test, y_pred)\n",
    "print(\"Confusion Matrix:\\n\", cm)\n",
    "print(\"Classification Report:\\n\", classification_report(y_test, y_pred))\n",
    "\n",
    "# AUC-ROC\n",
    "print(\"AUC-ROC Score:\", roc_auc_score(y_test, predictions[:, 1]))\n",
    "\n",
    "fpr, tpr, _ = roc_curve(y_test, predictions[:, 1])\n",
    "\n",
    "plt.clf()\n",
    "plt.plot(fpr, tpr)\n",
    "plt.xlabel('FPR')\n",
    "plt.ylabel('TPR')\n",
    "plt.title('ROC curve')\n",
    "plt.show()\n",
    "\n",
    "# Save the model\n",
    "joblib.dump(dt_model, \"decision_tree_model.pkl\")\n",
    "\n",
    "# If using scaler:\n",
    "# joblib.dump(scaler_dt, \"scaler_dt.pkl\")\n"
   ]
  },
  {
   "cell_type": "markdown",
   "metadata": {},
   "source": [
    "<h4>Random Forest:</h4>"
   ]
  },
  {
   "cell_type": "code",
   "execution_count": 77,
   "metadata": {},
   "outputs": [
    {
     "name": "stdout",
     "output_type": "stream",
     "text": [
      "ROC AUC Score: 0.9587170146549763\n"
     ]
    },
    {
     "data": {
      "image/png": "[encoded data removed]",
      "text/plain": [
       "<Figure size 640x480 with 1 Axes>"
      ]
     },
     "metadata": {},
     "output_type": "display_data"
    },
    {
     "name": "stdout",
     "output_type": "stream",
     "text": [
      "Confusion Matrix:\n",
      " [[99498     9]\n",
      " [   40   136]]\n",
      "Classification Report:\n",
      "               precision    recall  f1-score   support\n",
      "\n",
      "           0       1.00      1.00      1.00     99507\n",
      "           1       0.94      0.77      0.85       176\n",
      "\n",
      "    accuracy                           1.00     99683\n",
      "   macro avg       0.97      0.89      0.92     99683\n",
      "weighted avg       1.00      1.00      1.00     99683\n",
      "\n"
     ]
    },
    {
     "data": {
      "text/plain": [
       "['random_forest_model.pkl']"
      ]
     },
     "execution_count": 77,
     "metadata": {},
     "output_type": "execute_result"
    }
   ],
   "source": [
    "from sklearn.ensemble import RandomForestClassifier\n",
    "from sklearn.metrics import classification_report, confusion_matrix, roc_auc_score, roc_curve\n",
    "import matplotlib.pyplot as plt\n",
    "import joblib\n",
    "\n",
    "# Train RandomForestClassifier (not Regressor)\n",
    "rf_model = RandomForestClassifier(n_estimators=100, random_state=42)\n",
    "rf_model.fit(X_train, y_train)\n",
    "\n",
    "# Predict\n",
    "y_pred_probs = rf_model.predict_proba(X_test)[:, 1]  # for ROC\n",
    "y_pred = rf_model.predict(X_test)  # for actual prediction\n",
    "\n",
    "# Evaluation\n",
    "print(\"ROC AUC Score:\", roc_auc_score(y_test, y_pred_probs))\n",
    "\n",
    "fpr, tpr, _ = roc_curve(y_test, y_pred_probs)\n",
    "plt.clf()\n",
    "plt.plot(fpr, tpr)\n",
    "plt.xlabel('FPR')\n",
    "plt.ylabel('TPR')\n",
    "plt.title('ROC curve')\n",
    "plt.show()\n",
    "\n",
    "# Confusion Matrix and Classification Report\n",
    "cm = confusion_matrix(y_test, y_pred)\n",
    "print(\"Confusion Matrix:\\n\", cm)\n",
    "print(\"Classification Report:\\n\", classification_report(y_test, y_pred))\n",
    "\n",
    "# Save the model\n",
    "joblib.dump(rf_model, \"random_forest_model.pkl\")\n"
   ]
  },
  {
   "cell_type": "markdown",
   "metadata": {},
   "source": [
    "### DBSCAN"
   ]
  },
  {
   "cell_type": "code",
   "execution_count": 78,
   "metadata": {},
   "outputs": [
    {
     "name": "stdout",
     "output_type": "stream",
     "text": [
      "DBSCAN Classification Report (Label -1 as Fraud):\n",
      "              precision    recall  f1-score   support\n",
      "\n",
      "           0       1.00      0.66      0.79    284315\n",
      "           1       0.00      0.95      0.01       492\n",
      "\n",
      "    accuracy                           0.66    284807\n",
      "   macro avg       0.50      0.80      0.40    284807\n",
      "weighted avg       1.00      0.66      0.79    284807\n",
      "\n"
     ]
    },
    {
     "data": {
      "text/plain": [
       "['scaler_dbscan.pkl']"
      ]
     },
     "execution_count": 78,
     "metadata": {},
     "output_type": "execute_result"
    }
   ],
   "source": [
    "from sklearn.cluster import DBSCAN\n",
    "from sklearn.preprocessing import StandardScaler\n",
    "from sklearn.metrics import classification_report\n",
    "import joblib\n",
    "import numpy as np\n",
    "\n",
    "# Feature selection\n",
    "X = df.drop(['Class'], axis=1)\n",
    "y = df['Class']\n",
    "\n",
    "# Standardize features\n",
    "scaler_dbscan = StandardScaler()\n",
    "X_scaled = scaler_dbscan.fit_transform(X)\n",
    "\n",
    "# DBSCAN model\n",
    "dbscan = DBSCAN(eps=1.5, min_samples=5)\n",
    "dbscan_labels = dbscan.fit_predict(X_scaled)\n",
    "\n",
    "# Assign predicted labels (-1 as anomaly/fraud, 1 as legit)\n",
    "predicted = np.where(dbscan_labels == -1, 1, 0)\n",
    "\n",
    "# Evaluation\n",
    "print(\"DBSCAN Classification Report (Label -1 as Fraud):\")\n",
    "print(classification_report(y, predicted))\n",
    "\n",
    "# Save model and scaler\n",
    "joblib.dump(dbscan, \"dbscan_model.pkl\")\n",
    "joblib.dump(scaler_dbscan, \"scaler_dbscan.pkl\")\n"
   ]
  },
  {
   "cell_type": "code",
   "execution_count": 83,
   "metadata": {},
   "outputs": [],
   "source": [
    "\n",
    "from tensorflow.keras.models import Sequential\n",
    "from tensorflow.keras.layers import Dense\n",
    "from tensorflow.keras.optimizers import Adam\n",
    "from sklearn.metrics import classification_report\n"
   ]
  },
  {
   "cell_type": "code",
   "execution_count": 84,
   "metadata": {},
   "outputs": [
    {
     "name": "stdout",
     "output_type": "stream",
     "text": [
      "Epoch 1/10\n"
     ]
    },
    {
     "name": "stderr",
     "output_type": "stream",
     "text": [
      "C:\\Users\\kunal\\AppData\\Roaming\\Python\\Python312\\site-packages\\keras\\src\\layers\\core\\dense.py:87: UserWarning: Do not pass an `input_shape`/`input_dim` argument to a layer. When using Sequential models, prefer using an `Input(shape)` object as the first layer in the model instead.\n",
      "  super().__init__(activity_regularizer=activity_regularizer, **kwargs)\n"
     ]
    },
    {
     "name": "stdout",
     "output_type": "stream",
     "text": [
      "\u001b[1m73/73\u001b[0m \u001b[32m━━━━━━━━━━━━━━━━━━━━\u001b[0m\u001b[37m\u001b[0m \u001b[1m2s\u001b[0m 10ms/step - accuracy: 0.4180 - loss: 4559.7378 - val_accuracy: 0.9982 - val_loss: 8.9814\n",
      "Epoch 2/10\n",
      "\u001b[1m73/73\u001b[0m \u001b[32m━━━━━━━━━━━━━━━━━━━━\u001b[0m\u001b[37m\u001b[0m \u001b[1m1s\u001b[0m 7ms/step - accuracy: 0.9984 - loss: 8.0751 - val_accuracy: 0.9982 - val_loss: 8.7641\n",
      "Epoch 3/10\n",
      "\u001b[1m73/73\u001b[0m \u001b[32m━━━━━━━━━━━━━━━━━━━━\u001b[0m\u001b[37m\u001b[0m \u001b[1m1s\u001b[0m 8ms/step - accuracy: 0.9984 - loss: 7.8258 - val_accuracy: 0.9982 - val_loss: 8.4348\n",
      "Epoch 4/10\n",
      "\u001b[1m73/73\u001b[0m \u001b[32m━━━━━━━━━━━━━━━━━━━━\u001b[0m\u001b[37m\u001b[0m \u001b[1m1s\u001b[0m 9ms/step - accuracy: 0.9983 - loss: 8.2443 - val_accuracy: 0.9982 - val_loss: 8.0267\n",
      "Epoch 5/10\n",
      "\u001b[1m73/73\u001b[0m \u001b[32m━━━━━━━━━━━━━━━━━━━━\u001b[0m\u001b[37m\u001b[0m \u001b[1m1s\u001b[0m 9ms/step - accuracy: 0.9983 - loss: 7.4642 - val_accuracy: 0.9982 - val_loss: 7.5731\n",
      "Epoch 6/10\n",
      "\u001b[1m73/73\u001b[0m \u001b[32m━━━━━━━━━━━━━━━━━━━━\u001b[0m\u001b[37m\u001b[0m \u001b[1m1s\u001b[0m 6ms/step - accuracy: 0.9983 - loss: 7.2085 - val_accuracy: 0.9982 - val_loss: 7.0611\n",
      "Epoch 7/10\n",
      "\u001b[1m73/73\u001b[0m \u001b[32m━━━━━━━━━━━━━━━━━━━━\u001b[0m\u001b[37m\u001b[0m \u001b[1m1s\u001b[0m 6ms/step - accuracy: 0.9984 - loss: 6.3870 - val_accuracy: 0.9982 - val_loss: 6.5092\n",
      "Epoch 8/10\n",
      "\u001b[1m73/73\u001b[0m \u001b[32m━━━━━━━━━━━━━━━━━━━━\u001b[0m\u001b[37m\u001b[0m \u001b[1m1s\u001b[0m 6ms/step - accuracy: 0.9983 - loss: 6.2755 - val_accuracy: 0.9982 - val_loss: 5.8902\n",
      "Epoch 9/10\n",
      "\u001b[1m73/73\u001b[0m \u001b[32m━━━━━━━━━━━━━━━━━━━━\u001b[0m\u001b[37m\u001b[0m \u001b[1m1s\u001b[0m 6ms/step - accuracy: 0.9981 - loss: 6.0952 - val_accuracy: 0.9982 - val_loss: 5.2303\n",
      "Epoch 10/10\n",
      "\u001b[1m73/73\u001b[0m \u001b[32m━━━━━━━━━━━━━━━━━━━━\u001b[0m\u001b[37m\u001b[0m \u001b[1m1s\u001b[0m 6ms/step - accuracy: 0.9983 - loss: 4.8136 - val_accuracy: 0.9982 - val_loss: 4.5583\n"
     ]
    },
    {
     "data": {
      "text/plain": [
       "<keras.src.callbacks.history.History at 0x1d3559dbe00>"
      ]
     },
     "execution_count": 84,
     "metadata": {},
     "output_type": "execute_result"
    }
   ],
   "source": [
    "\n",
    "# Build and train a simple deep learning model\n",
    "model_dl = Sequential([\n",
    "    Dense(32, input_shape=(X_train.shape[1],), activation='relu'),\n",
    "    Dense(16, activation='relu'),\n",
    "    Dense(1, activation='sigmoid')\n",
    "])\n",
    "\n",
    "model_dl.compile(optimizer=Adam(learning_rate=0.001), loss='binary_crossentropy', metrics=['accuracy'])\n",
    "model_dl.fit(X_train, y_train, epochs=10, batch_size=2048, validation_split=0.2)\n"
   ]
  },
  {
   "cell_type": "code",
   "execution_count": 85,
   "metadata": {},
   "outputs": [
    {
     "name": "stdout",
     "output_type": "stream",
     "text": [
      "\u001b[1m3116/3116\u001b[0m \u001b[32m━━━━━━━━━━━━━━━━━━━━\u001b[0m\u001b[37m\u001b[0m \u001b[1m5s\u001b[0m 2ms/step  \n",
      "Deep Learning Model Evaluation:\n",
      "              precision    recall  f1-score   support\n",
      "\n",
      "           0       1.00      1.00      1.00     99507\n",
      "           1       0.00      0.00      0.00       176\n",
      "\n",
      "    accuracy                           1.00     99683\n",
      "   macro avg       0.50      0.50      0.50     99683\n",
      "weighted avg       1.00      1.00      1.00     99683\n",
      "\n"
     ]
    }
   ],
   "source": [
    "\n",
    "# Evaluate on test set\n",
    "dl_preds = (model_dl.predict(X_test) > 0.5).astype(\"int32\")\n",
    "print(\"Deep Learning Model Evaluation:\")\n",
    "print(classification_report(y_test, dl_preds))\n"
   ]
  },
  {
   "cell_type": "code",
   "execution_count": 86,
   "metadata": {},
   "outputs": [
    {
     "data": {
      "text/plain": [
       "['scaler.pkl']"
      ]
     },
     "execution_count": 86,
     "metadata": {},
     "output_type": "execute_result"
    }
   ],
   "source": [
    "from sklearn.preprocessing import StandardScaler\n",
    "import joblib\n",
    "\n",
    "# Assume X_train is defined\n",
    "scaler = StandardScaler()\n",
    "X_train_scaled = scaler.fit_transform(X_train)\n",
    "\n",
    "# Save model using newer Keras format\n",
    "model_dl.save(\"fraud_dl_model.keras\")\n",
    "\n",
    "# Save the scaler\n",
    "joblib.dump(scaler, \"scaler.pkl\")\n"
   ]
  },
  {
   "cell_type": "code",
   "execution_count": null,
   "metadata": {},
   "outputs": [],
   "source": []
  },
  {
   "cell_type": "code",
   "execution_count": null,
   "metadata": {},
   "outputs": [],
   "source": []
  }
 ],
 "metadata": {
  "kernelspec": {
   "display_name": "Python 3 (ipykernel)",
   "language": "python",
   "name": "python3"
  },
  "language_info": {
   "codemirror_mode": {
    "name": "ipython",
    "version": 3
   },
   "file_extension": ".py",
   "mimetype": "text/x-python",
   "name": "python",
   "nbconvert_exporter": "python",
   "pygments_lexer": "ipython3",
   "version": "3.12.10"
  }
 },
 "nbformat": 4,
 "nbformat_minor": 4
}
